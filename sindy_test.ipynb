{
 "cells": [
  {
   "cell_type": "code",
   "execution_count": 1,
   "metadata": {
    "ExecuteTime": {
     "end_time": "2020-10-22T22:20:41.222450Z",
     "start_time": "2020-10-22T22:20:40.308783Z"
    }
   },
   "outputs": [],
   "source": [
    "import importlib\n",
    "import ZGN_PDE \n",
    "\n",
    "import matplotlib.pyplot as plt\n",
    "from mpl_toolkits.mplot3d import Axes3D\n",
    "import numpy as np\n",
    "from scipy.integrate import odeint\n",
    "from sklearn.linear_model import Lasso\n",
    "from scipy.io import loadmat\n",
    "from sklearn.metrics import mean_squared_error\n",
    "from scipy.integrate import solve_ivp\n",
    "\n",
    "from scipy.interpolate import RegularGridInterpolator\n",
    "from scipy.integrate import trapezoid\n",
    "\n",
    "import pysindy as ps\n",
    "import timeit\n",
    "import os\n",
    "from shutil import rmtree\n",
    "\n",
    "from IPython.display import Video\n",
    "\n",
    "# Seed the random number generators for reproducibility\n",
    "np.random.seed(100)"
   ]
  },
  {
   "cell_type": "markdown",
   "metadata": {},
   "source": [
    "## Import and smooth histograms "
   ]
  },
  {
   "cell_type": "code",
   "execution_count": 3,
   "metadata": {},
   "outputs": [],
   "source": [
    "filebase='data/ensemble/1'\n",
    "file=open(filebase+'out.dat')\n",
    "N,dim,t1,t2,t3,dt,L,R0,R,V,H,dmax=file.readline().split()\n",
    "N=int(N)\n",
    "dim=int(dim)\n",
    "L=float(L)\n",
    "R0=float(R0)\n",
    "R=float(R)\n",
    "t1=float(t1)\n",
    "t2=float(t2)\n",
    "t3=float(t3)\n",
    "dt=float(dt)\n",
    "file.close()\n",
    "t=np.arange(0,t1+dt,dt)\n",
    "#dat=np.transpose(np.load('data/ensemble/smoothhistograms.npy'),axes=(2,1,0))\n",
    "dat=np.transpose(np.load('data/ensemble/histograms.npy'),axes=(2,1,0))\n",
    "nx,ny,nt=dat.shape\n",
    "vmax=25\n",
    "X, Y = np.meshgrid(np.arange(0,L,L/nx),np.arange(-vmax,vmax,2*vmax/ny),indexing=\"ij\")\n",
    "spatial_grid = np.transpose(np.asarray([X, Y]),axes=(1,2,0))"
   ]
  },
  {
   "cell_type": "code",
   "execution_count": 4,
   "metadata": {},
   "outputs": [],
   "source": [
    "sigmax=10\n",
    "sigmay=10\n",
    "sigmat=10\n",
    "\n",
    "kernelx=np.roll(np.exp(-(np.arange(nx)-nx/2)**2/(2*sigmax**2))/(2*np.pi*(sigmax/nx)**2)**0.5/nx,int(nx/2))\n",
    "kernely=np.roll(np.exp(-(np.arange(ny)-ny/2)**2/(2*sigmay**2))/(2*np.pi*(sigmay/ny)**2)**0.5/ny,int(ny/2))\n",
    "kernelt=np.roll(np.exp(-(np.arange(nt)-nt/2)**2/(2*sigmat**2))/(2*np.pi*(sigmat/nt)**2)**0.5/nt,int(nt/2))\n",
    "kernel=np.einsum('i,j,k->ijk',kernelx,kernely,kernelt)\n",
    "kernel.shape\n",
    "dat2=np.real(np.fft.ifftn(kernel*np.fft.fftn(dat)))"
   ]
  },
  {
   "cell_type": "markdown",
   "metadata": {},
   "source": [
    "## Derivatives"
   ]
  },
  {
   "cell_type": "code",
   "execution_count": 5,
   "metadata": {},
   "outputs": [
    {
     "name": "stdout",
     "output_type": "stream",
     "text": [
      "(100, 100, 901, 3)\n",
      "2.4801717028021812\n"
     ]
    }
   ],
   "source": [
    "start=timeit.default_timer()\n",
    "tpad=50\n",
    "nx,ny,nt=dat2.shape\n",
    "nt=nt-2*tpad\n",
    "t=t[tpad:-tpad]-t[tpad]\n",
    "\n",
    "U=np.zeros((nx,ny,nt,3))\n",
    "U_dot=np.zeros((nx,ny,nt,3))\n",
    "\n",
    "U[:,:,:,0]=np.transpose(dat2[:,:,tpad:-tpad]*np.sum(dat[:,:,0])/np.sum(dat2[:,:,0]),axes=(1,0,2))\n",
    "U[:,:,:,1]=np.transpose(spatial_grid[:,:,1][:,:,np.newaxis],axes=(0,1,2))\n",
    "U[:,:,:,2]=np.transpose(spatial_grid[:,:,0][:,:,np.newaxis],axes=(0,1,2))\n",
    "print(U.shape)\n",
    "\n",
    "for i in range(nx):\n",
    "    for j in range(ny):\n",
    "        print(i,j,end='\\r')\n",
    "        U_dot[i, j, :, :] = ps.FiniteDifference()._differentiate(U[i, j, :, :], dt)\n",
    "\n",
    "U_flat = np.reshape(U, (nx*ny*nt, 3))\n",
    "U_dot_flat = np.reshape(U, (nx*ny*nt, 3))\n",
    "\n",
    "stop=timeit.default_timer()\n",
    "print(stop-start)"
   ]
  },
  {
   "cell_type": "code",
   "execution_count": 6,
   "metadata": {},
   "outputs": [
    {
     "data": {
      "image/png": "[encoded data removed]",
      "text/plain": [
       "<Figure size 864x288 with 4 Axes>"
      ]
     },
     "metadata": {
      "needs_background": "light"
     },
     "output_type": "display_data"
    }
   ],
   "source": [
    "smoothhistograms=np.transpose(U[:,:,:,0],(2,0,1))\n",
    "nmax=np.max(smoothhistograms)\n",
    "nmaxv=np.max(np.sum(smoothhistograms,axis=1))\n",
    "nmaxx=np.max(np.sum(smoothhistograms,axis=2))\n",
    "\n",
    "i=0\n",
    "plt.subplots(1,3,figsize=(12,4))\n",
    "plt.subplot(1,3,1)\n",
    "plt.imshow(smoothhistograms[i].T,vmin=0,vmax=20,extent=(0,L,vmax,-vmax),aspect=L/(2*vmax))\n",
    "plt.colorbar(label='num',location='top')\n",
    "plt.xlabel('$x$')\n",
    "plt.ylabel('$v$')\n",
    "plt.subplot(1,3,2)\n",
    "plt.step(np.arange(0,L,L/nx),np.sum(smoothhistograms[i],axis=1))\n",
    "plt.xlabel('$x$')\n",
    "plt.ylabel('num')\n",
    "plt.ylim(0,1.5*nmaxx)\n",
    "plt.subplot(1,3,3)\n",
    "plt.step(np.arange(-vmax,vmax,2*vmax/ny),np.sum(smoothhistograms[i],axis=0))\n",
    "plt.xlabel('$v$')\n",
    "plt.ylabel('num')\n",
    "plt.ylim(0,1.5*nmaxv)\n",
    "plt.tight_layout()\n",
    "plt.show()"
   ]
  },
  {
   "cell_type": "markdown",
   "metadata": {},
   "source": [
    "## pysindy with smoothed derivatives"
   ]
  },
  {
   "cell_type": "code",
   "execution_count": 7,
   "metadata": {},
   "outputs": [],
   "source": [
    "library_functions = [lambda x: x, lambda x: x * x ]\n",
    "library_function_names = [lambda x: x, lambda x: x + '^2']\n",
    "pde_lib = ps.PDELibrary(library_functions=library_functions, \n",
    "                        function_names=library_function_names, \n",
    "                        derivative_order=1, spatial_grid=spatial_grid,\n",
    "                        temporal_grid=t, include_bias=True, \n",
    "                        is_uniform=True, weak_form=False)\n",
    "\n",
    "U_flat = np.reshape(U, (nx*ny*nt, 3))\n",
    "\n",
    "optimizer = ps.STLSQ(threshold=0.1, alpha=1e-3, normalize_columns=False, max_iter=100)\n",
    "model = ps.SINDy(feature_library=pde_lib, optimizer=optimizer,feature_names=['u','p'])"
   ]
  },
  {
   "cell_type": "code",
   "execution_count": 8,
   "metadata": {},
   "outputs": [
    {
     "name": "stdout",
     "output_type": "stream",
     "text": [
      "900 99 \r"
     ]
    }
   ],
   "source": [
    "Ux=np.zeros((nx,ny,nt,3))\n",
    "\n",
    "for k in range(nt):\n",
    "    for j in range(ny):\n",
    "        print(k,j,end=' \\r')\n",
    "        Ux[:, j, k, :] = ps.FiniteDifference()._differentiate(U[:, j, k, :], dt)"
   ]
  },
  {
   "cell_type": "code",
   "execution_count": 9,
   "metadata": {
    "scrolled": true
   },
   "outputs": [
    {
     "name": "stderr",
     "output_type": "stream",
     "text": [
      "/home/zackn/manybody/pysindy/optimizers/stlsq.py:174: UserWarning: Sparsity parameter is too big (0.1) and eliminated all coefficients\n",
      "  warnings.warn(\n"
     ]
    },
    {
     "name": "stdout",
     "output_type": "stream",
     "text": [
      "(u)' = -0.210 u_1 + -0.922 up_1\n",
      "(p)' = 0.000\n",
      "17.6365996748209\n"
     ]
    }
   ],
   "source": [
    "start=timeit.default_timer()\n",
    "model.fit(U_flat[:,:2])\n",
    "model.print()\n",
    "stop=timeit.default_timer()\n",
    "print(stop-start)"
   ]
  },
  {
   "cell_type": "markdown",
   "metadata": {},
   "source": [
    "##  Weak-form sindy"
   ]
  },
  {
   "cell_type": "code",
   "execution_count": 10,
   "metadata": {},
   "outputs": [],
   "source": [
    "K=50\n",
    "Hx=L/20\n",
    "Hy=vmax/20\n",
    "Ht=10\n",
    "library_functions = [lambda x: x, lambda x: x * x ]\n",
    "library_function_names = [lambda x: x, lambda x: x + '^2']\n",
    "pde_lib = ps.PDELibrary(library_functions=library_functions, \n",
    "                        function_names=library_function_names, \n",
    "                        derivative_order=1, spatial_grid=spatial_grid,\n",
    "                        temporal_grid=t, include_bias=True, K=K, Hx=Hx, Hy=Hy, Ht=Ht,\n",
    "                        is_uniform=True, weak_form=True, num_pts_per_domain=30)"
   ]
  },
  {
   "cell_type": "code",
   "execution_count": 11,
   "metadata": {},
   "outputs": [],
   "source": [
    "# Convert u_dot into a weak form using the pre-defined pde_lib\n",
    "def convert_u_dot_2D(u, t, pde_lib):  # For weak form 2D PDES\n",
    "    K = pde_lib.K  \n",
    "    num_pts_per_domain = pde_lib.num_pts_per_domain\n",
    "    x = pde_lib.spatial_grid\n",
    "    u_dot_integral = np.zeros((K, u.shape[-1]))\n",
    "    for j in range(u.shape[-1]):\n",
    "        # Define interpolation object to interpolate u(x, y, t) onto the grid\n",
    "        # spanned by X, Y, t\n",
    "        u_interp = RegularGridInterpolator((pde_lib.spatial_grid[:, 0, 0], \n",
    "                                            pde_lib.spatial_grid[0, :, 1],\n",
    "                                            t), \n",
    "                                           u[:, :, :, j])\n",
    "        for k in range(K):\n",
    "            X = np.ravel(pde_lib.X[k, :, :, :])\n",
    "            Y = np.ravel(pde_lib.Y[k, :, :, :])\n",
    "            tgrid = np.ravel(pde_lib.t[k, :, :, :])\n",
    "            XYt = np.array((X, Y, tgrid)).T\n",
    "            # Interpolate u onto the kth subdomain\n",
    "            u_new = u_interp(XYt)\n",
    "            u_new = np.reshape(u_new, (num_pts_per_domain,\n",
    "                                       num_pts_per_domain,\n",
    "                                       num_pts_per_domain,\n",
    "                                       1))\n",
    "            # Get the smooth weights on the kth subdomain\n",
    "            w_diff = pde_lib._smooth_ppoly(\n",
    "                        np.transpose((pde_lib.xgrid_k[k, :], pde_lib.ygrid_k[k, :])),\n",
    "                        pde_lib.tgrid_k[k, :], k, 0, 0, 0, 1\n",
    "                    )\n",
    "            # Integrate over x, y, t points in the kth subdomain\n",
    "            u_dot_integral[k, j] = (-1) * (\n",
    "                trapezoid(\n",
    "                    trapezoid(\n",
    "                        trapezoid(\n",
    "                            u_new * w_diff, \n",
    "                            x=pde_lib.xgrid_k[k, :], \n",
    "                            axis=0\n",
    "                        ),\n",
    "                        x=pde_lib.ygrid_k[k, :],\n",
    "                        axis=0\n",
    "                    ),\n",
    "                    x=pde_lib.tgrid_k[k, :], \n",
    "                    axis=0\n",
    "                )\n",
    "            )\n",
    "    return u_dot_integral"
   ]
  },
  {
   "cell_type": "code",
   "execution_count": 12,
   "metadata": {},
   "outputs": [],
   "source": [
    "U_dot_integral = convert_u_dot_2D(U, t, pde_lib)\n",
    "U_flat = np.reshape(U, (nx*ny*nt, 3))\n",
    "\n",
    "optimizer = ps.STLSQ(threshold=0.1, alpha=1e-3, normalize_columns=False, max_iter=100)\n",
    "model = ps.SINDy(feature_library=pde_lib, optimizer=optimizer,feature_names=['u','p'])"
   ]
  },
  {
   "cell_type": "code",
   "execution_count": 13,
   "metadata": {
    "scrolled": false
   },
   "outputs": [
    {
     "name": "stdout",
     "output_type": "stream",
     "text": [
      "(u)' = -0.143 u_1 + -0.853 up_1\n",
      "(p)' = 0.000\n",
      "45.91549838706851\n"
     ]
    },
    {
     "name": "stderr",
     "output_type": "stream",
     "text": [
      "/home/zackn/manybody/pysindy/optimizers/stlsq.py:174: UserWarning: Sparsity parameter is too big (0.1) and eliminated all coefficients\n",
      "  warnings.warn(\n",
      "/home/zackn/manybody/pysindy/optimizers/stlsq.py:174: UserWarning: Sparsity parameter is too big (0.1) and eliminated all coefficients\n",
      "  warnings.warn(\n"
     ]
    }
   ],
   "source": [
    "#Fit with the momentum but no position\n",
    "start=timeit.default_timer()\n",
    "model.fit(U_flat[:,:2], x_dot=U_dot_integral[:,:2])\n",
    "model.print()\n",
    "stop=timeit.default_timer()\n",
    "print(stop-start)"
   ]
  },
  {
   "cell_type": "markdown",
   "metadata": {},
   "source": [
    "##  Integrate collisionless Boltzmann with pseudospectral"
   ]
  },
  {
   "cell_type": "code",
   "execution_count": 17,
   "metadata": {},
   "outputs": [
    {
     "name": "stdout",
     "output_type": "stream",
     "text": [
      "1.623888224363327\n"
     ]
    }
   ],
   "source": [
    "u0=U[:,:,0,0]\n",
    "\n",
    "def dudt(t, u, x, p):\n",
    "    nx=len(x)\n",
    "    ny=len(p)\n",
    "    ux = ZGN_PDE.SpectralDiff(u.reshape((nx,ny)),L/nx,axis=0,order=1) \n",
    "    up = ZGN_PDE.SpectralDiff(u.reshape((nx,ny)),2*vmax/ny,axis=1,order=1) \n",
    "    #Add Boltzmann's closure term?\n",
    "    return np.reshape(-p*np.real(ux),(nx*ny))\n",
    "\n",
    "mmax=len(t)-1\n",
    "tmax=t[mmax]\n",
    "dt=t[1]-t[0]\n",
    "start=timeit.default_timer()\n",
    "sol=solve_ivp(dudt,[0,tmax],np.reshape(u0,(nx*ny)), method='LSODA', args=[np.arange(0,L,L/nx),np.arange(-vmax,vmax,2*vmax/ny)], t_eval=t[:mmax+1],rtol=1e-8,atol=1e-8)\n",
    "stop=timeit.default_timer()\n",
    "print(stop-start)"
   ]
  },
  {
   "cell_type": "code",
   "execution_count": 18,
   "metadata": {},
   "outputs": [
    {
     "data": {
      "image/png": "[encoded data removed]",
      "text/plain": [
       "<Figure size 864x288 with 4 Axes>"
      ]
     },
     "metadata": {
      "needs_background": "light"
     },
     "output_type": "display_data"
    }
   ],
   "source": [
    "histograms=np.transpose(np.reshape(sol.y,(nx,ny,mmax+1)),(2,0,1))\n",
    "nmax=np.max(histograms)\n",
    "nmaxv=np.max(np.sum(histograms,axis=1))\n",
    "nmaxx=np.max(np.sum(histograms,axis=2))\n",
    "\n",
    "i=-1\n",
    "plt.subplots(1,3,figsize=(12,4))\n",
    "plt.subplot(1,3,1)\n",
    "plt.imshow(histograms[i].T,vmin=0,vmax=20,extent=(0,L,vmax,-vmax),aspect=L/(2*vmax))\n",
    "plt.colorbar(label='num',location='top')\n",
    "plt.xlabel('$x$')\n",
    "plt.ylabel('$v$')\n",
    "plt.subplot(1,3,2)\n",
    "plt.step(np.arange(0,L,L/nx),np.sum(histograms[i],axis=1))\n",
    "plt.xlabel('$x$')\n",
    "plt.ylabel('num')\n",
    "plt.ylim(0,1.5*nmaxx)\n",
    "plt.subplot(1,3,3)\n",
    "plt.step(np.arange(-vmax,vmax,2*vmax/ny),np.sum(histograms[i],axis=0))\n",
    "plt.xlabel('$v$')\n",
    "plt.ylabel('num')\n",
    "plt.ylim(0,1.5*nmaxv)\n",
    "plt.tight_layout()\n",
    "plt.show()"
   ]
  },
  {
   "cell_type": "markdown",
   "metadata": {},
   "source": [
    "##  Sam's PDE_find with Zack's optimizations"
   ]
  },
  {
   "cell_type": "code",
   "execution_count": 19,
   "metadata": {},
   "outputs": [
    {
     "name": "stdout",
     "output_type": "stream",
     "text": [
      "900 99  99  99    99 \r"
     ]
    }
   ],
   "source": [
    "Ux=np.zeros((nx,ny,nt,1))\n",
    "Uxx=np.zeros((nx,ny,nt,1))\n",
    "Up=np.zeros((nx,ny,nt,1))\n",
    "\n",
    "for k in range(nt):\n",
    "    for j in range(ny):\n",
    "        print(k,j,end=' \\r')\n",
    "        Ux[:, j, k, :] = ps.FiniteDifference()._differentiate(U[:, j, k, :1], L/nx)\n",
    "        Uxx[:, j, k, :] = ps.FiniteDifference(d=2)._differentiate(U[:, j, k, :1], L/nx)\n",
    "        \n",
    "    for i in range(nx):\n",
    "        print(k,j,end=' \\r')\n",
    "        Up[i, :, k, :] = ps.FiniteDifference()._differentiate(U[i, :, k, :1], 2*vmax/ny)"
   ]
  },
  {
   "cell_type": "code",
   "execution_count": 20,
   "metadata": {},
   "outputs": [
    {
     "name": "stdout",
     "output_type": "stream",
     "text": [
      "18.69061479717493\n"
     ]
    }
   ],
   "source": [
    "start=timeit.default_timer()\n",
    "X_ders = np.hstack([np.ones((nx*ny*nt,1)),np.reshape(Ux,(nx*ny*nt,1)),np.reshape(Uxx,(nx*ny*nt,1)),np.reshape(Up,(nx*ny*nt,1))])\n",
    "X_data = np.hstack([np.reshape(U[:,:,:,:1], (nx*ny*nt,1)),np.reshape(U[:,:,:,1:2], (nx*ny*nt,1))])\n",
    "derivatives_description = ['','u_{x}','u_{xx}','u_{p}']\n",
    "X, descr = ZGN_PDE.build_Theta(X_data, X_ders, derivatives_description, 2, data_description = ['u','p'])\n",
    "stop=timeit.default_timer()\n",
    "print(stop-start)"
   ]
  },
  {
   "cell_type": "code",
   "execution_count": 21,
   "metadata": {},
   "outputs": [
    {
     "name": "stdout",
     "output_type": "stream",
     "text": [
      "iter, terms: 0 24\n",
      "iter, terms: 1 5\n",
      "u_t = (-0.234205 +0.000000i)u_{x}\n",
      "    + (-0.954675 +0.000000i)pu_{x}\n",
      "    + (1.563291 +0.000000i)p^2u_{xx}\n",
      "    + (0.215477 +0.000000i)upu_{xx}\n",
      "    + (0.499601 +0.000000i)u^2u_{xx}\n",
      "   \n"
     ]
    }
   ],
   "source": [
    "w=ZGN_PDE.STRidge(X, np.reshape(U_dot[:,:,:,:1],(nx*ny*nt,1)), 1e-3, 10, 0.1, normalize = 0, print_results = True)\n",
    "ZGN_PDE.print_pde(w,descr)"
   ]
  },
  {
   "cell_type": "markdown",
   "metadata": {},
   "source": [
    "## integrate sindy model with pseudospectral"
   ]
  },
  {
   "cell_type": "code",
   "execution_count": 22,
   "metadata": {},
   "outputs": [
    {
     "name": "stdout",
     "output_type": "stream",
     "text": [
      "2.032164888456464\n"
     ]
    }
   ],
   "source": [
    "coeffs=np.real(w[np.nonzero(np.real(w))[0]])\n",
    "u0=U[:,:,0,0]\n",
    "\n",
    "def dudt(t, u, x, p):\n",
    "    nx=len(x)\n",
    "    ny=len(p)\n",
    "    ux = ZGN_PDE.SpectralDiff(u.reshape((nx,ny)),L/nx,axis=0,order=1) \n",
    "    uxx = ZGN_PDE.SpectralDiff(u.reshape((nx,ny)),L/nx,axis=0,order=2) \n",
    "    #Add Boltzmann's closure term?\n",
    "    return np.reshape((coeffs[0]+coeffs[1]*p)*np.real(ux)+(coeffs[2]*p**2+coeffs[3]*u.reshape((nx,ny))*p+coeffs[4]*u.reshape((nx,ny))**2)*np.real(uxx),(nx*ny))\n",
    "\n",
    "mmax=len(t)-1\n",
    "tmax=t[mmax]\n",
    "dt=t[1]-t[0]\n",
    "start=timeit.default_timer()\n",
    "bsol=solve_ivp(dudt,[0,tmax],np.reshape(u0,(nx*ny)), method='LSODA', args=[np.arange(0,L,L/nx),np.arange(-vmax,vmax,2*vmax/ny)], t_eval=t[:mmax+1],rtol=1e-8,atol=1e-8)\n",
    "stop=timeit.default_timer()\n",
    "print(stop-start)"
   ]
  },
  {
   "cell_type": "code",
   "execution_count": 23,
   "metadata": {},
   "outputs": [
    {
     "data": {
      "image/png": "[encoded data removed]",
      "text/plain": [
       "<Figure size 864x288 with 4 Axes>"
      ]
     },
     "metadata": {
      "needs_background": "light"
     },
     "output_type": "display_data"
    }
   ],
   "source": [
    "bhistograms=np.transpose(np.reshape(bsol.y,(nx,ny,mmax+1)),(2,0,1))\n",
    "nmax=np.max(histograms)\n",
    "nmaxv=np.max(np.sum(histograms,axis=1))\n",
    "nmaxx=np.max(np.sum(histograms,axis=2))\n",
    "\n",
    "i=0\n",
    "plt.subplots(1,3,figsize=(12,4))\n",
    "plt.subplot(1,3,1)\n",
    "plt.imshow(histograms[i].T,vmin=0,vmax=20,extent=(0,L,vmax,-vmax),aspect=L/(2*vmax))\n",
    "plt.colorbar(label='num',location='top')\n",
    "plt.xlabel('$x$')\n",
    "plt.ylabel('$v$')\n",
    "plt.subplot(1,3,2)\n",
    "plt.step(np.arange(0,L,L/nx),np.sum(histograms[i],axis=1))\n",
    "plt.xlabel('$x$')\n",
    "plt.ylabel('num')\n",
    "plt.ylim(0,1.5*nmaxx)\n",
    "plt.subplot(1,3,3)\n",
    "plt.step(np.arange(-vmax,vmax,2*vmax/ny),np.sum(histograms[i],axis=0))\n",
    "plt.xlabel('$v$')\n",
    "plt.ylabel('num')\n",
    "plt.ylim(0,1.5*nmaxv)\n",
    "plt.tight_layout()\n",
    "plt.show()"
   ]
  },
  {
   "cell_type": "markdown",
   "metadata": {},
   "source": [
    "## Compare results"
   ]
  },
  {
   "cell_type": "code",
   "execution_count": 24,
   "metadata": {},
   "outputs": [
    {
     "name": "stdout",
     "output_type": "stream",
     "text": [
      "1113.385739851743\n"
     ]
    }
   ],
   "source": [
    "filebase='data/sindyfit'\n",
    "skip=1\n",
    "if os.path.isdir(filebase+'animation'):\n",
    "    rmtree(filebase+'animation')\n",
    "if not os.path.isdir(filebase+'animation'):\n",
    "    os.mkdir(filebase+'animation')\n",
    "    \n",
    "start=timeit.default_timer()\n",
    "for i in range(0,len(t),skip):\n",
    "    print(i, len(t),end='\\r')\n",
    "    plt.subplots(3,3,figsize=(10,10))\n",
    "    plt.subplot(3,3,1)\n",
    "    plt.imshow(smoothhistograms[i].T,vmin=0,vmax=50,extent=(0,L,vmax,-vmax),aspect=L/(2*vmax))\n",
    "    plt.colorbar(label='num',location='top')\n",
    "    plt.xlabel('$x$')\n",
    "    plt.ylabel('$v$')\n",
    "    plt.subplot(3,3,2)\n",
    "    plt.step(np.arange(0,L,L/nx),np.sum(smoothhistograms[i],axis=1))\n",
    "    plt.xlabel('$x$')\n",
    "    plt.ylabel('num')\n",
    "    plt.ylim(0,1.5*nmaxx)\n",
    "    plt.subplot(3,3,3)\n",
    "    plt.step(np.arange(-vmax,vmax,2*vmax/ny),np.sum(smoothhistograms[i],axis=0))\n",
    "    plt.xlabel('$v$')\n",
    "    plt.ylabel('num')\n",
    "    plt.ylim(0,1.5*nmaxv)\n",
    "    \n",
    "    plt.subplot(3,3,4)\n",
    "    plt.imshow(histograms[i].T,vmin=0,vmax=50,extent=(0,L,vmax,-vmax),aspect=L/(2*vmax))\n",
    "    plt.colorbar(label='num',location='top')\n",
    "    plt.xlabel('$x$')\n",
    "    plt.ylabel('$v$')\n",
    "    plt.subplot(3,3,5)\n",
    "    plt.step(np.arange(0,L,L/nx),np.sum(histograms[i],axis=1))\n",
    "    plt.xlabel('$x$')\n",
    "    plt.ylabel('num')\n",
    "    plt.ylim(0,1.5*nmaxx)\n",
    "    plt.subplot(3,3,6)\n",
    "    plt.step(np.arange(-vmax,vmax,2*vmax/ny),np.sum(histograms[i],axis=0))\n",
    "    plt.xlabel('$v$')\n",
    "    plt.ylabel('num')\n",
    "    plt.ylim(0,1.5*nmaxv)\n",
    "    \n",
    "    plt.subplot(3,3,7)\n",
    "    plt.imshow(bhistograms[i].T,vmin=0,vmax=50,extent=(0,L,vmax,-vmax),aspect=L/(2*vmax))\n",
    "    plt.colorbar(label='num',location='top')\n",
    "    plt.xlabel('$x$')\n",
    "    plt.ylabel('$v$')\n",
    "    plt.subplot(3,3,8)\n",
    "    plt.step(np.arange(0,L,L/nx),np.sum(bhistograms[i],axis=1))\n",
    "    plt.xlabel('$x$')\n",
    "    plt.ylabel('num')\n",
    "    plt.ylim(0,1.5*nmaxx)\n",
    "    plt.subplot(3,3,9)\n",
    "    plt.step(np.arange(-vmax,vmax,2*vmax/ny),np.sum(bhistograms[i],axis=0))\n",
    "    plt.xlabel('$v$')\n",
    "    plt.ylabel('num')\n",
    "    plt.ylim(0,1.5*nmaxv)\n",
    "    plt.tight_layout()\n",
    "    plt.savefig(filebase+'animation/'+str(int(i/skip)).zfill(4)+'.png', dpi=200,bbox_inches='tight')\n",
    "    plt.close('all')\n",
    "    \n",
    "os.system('./encode.sh ' + filebase+'animation/' + ' '  + filebase+'animation 30 ')\n",
    "rmtree(filebase+'animation')\n",
    "\n",
    "stop=timeit.default_timer()\n",
    "print(stop-start)"
   ]
  },
  {
   "cell_type": "code",
   "execution_count": 26,
   "metadata": {},
   "outputs": [
    {
     "data": {
      "text/html": [
       "<video src=\"data/sindyfitanimation.mp4\" controls  width=\"800\" >\n",
       "      Your browser does not support the <code>video</code> element.\n",
       "    </video>"
      ],
      "text/plain": [
       "<IPython.core.display.Video object>"
      ]
     },
     "execution_count": 26,
     "metadata": {},
     "output_type": "execute_result"
    }
   ],
   "source": [
    "filebase='data/sindyfit'\n",
    "\n",
    "Video(filebase+'animation.mp4',width=800)"
   ]
  },
  {
   "cell_type": "code",
   "execution_count": null,
   "metadata": {},
   "outputs": [],
   "source": []
  }
 ],
 "metadata": {
  "kernelspec": {
   "display_name": "Python 3 (ipykernel)",
   "language": "python",
   "name": "python3"
  },
  "language_info": {
   "codemirror_mode": {
    "name": "ipython",
    "version": 3
   },
   "file_extension": ".py",
   "mimetype": "text/x-python",
   "name": "python",
   "nbconvert_exporter": "python",
   "pygments_lexer": "ipython3",
   "version": "3.9.7"
  },
  "toc": {
   "base_numbering": 1,
   "nav_menu": {},
   "number_sections": true,
   "sideBar": true,
   "skip_h1_title": false,
   "title_cell": "Table of Contents",
   "title_sidebar": "Contents",
   "toc_cell": false,
   "toc_position": {
    "height": "calc(100% - 180px)",
    "left": "10px",
    "top": "150px",
    "width": "296.475px"
   },
   "toc_section_display": true,
   "toc_window_display": true
  },
  "varInspector": {
   "cols": {
    "lenName": 16,
    "lenType": 16,
    "lenVar": 40
   },
   "kernels_config": {
    "python": {
     "delete_cmd_postfix": "",
     "delete_cmd_prefix": "del ",
     "library": "var_list.py",
     "varRefreshCmd": "print(var_dic_list())"
    },
    "r": {
     "delete_cmd_postfix": ") ",
     "delete_cmd_prefix": "rm(",
     "library": "var_list.r",
     "varRefreshCmd": "cat(var_dic_list()) "
    }
   },
   "types_to_exclude": [
    "module",
    "function",
    "builtin_function_or_method",
    "instance",
    "_Feature"
   ],
   "window_display": false
  }
 },
 "nbformat": 4,
 "nbformat_minor": 2
}
